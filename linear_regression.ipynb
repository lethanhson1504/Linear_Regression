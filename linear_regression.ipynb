{
  "nbformat": 4,
  "nbformat_minor": 0,
  "metadata": {
    "colab": {
      "name": "linear_regression.ipynb",
      "provenance": [],
      "collapsed_sections": [],
      "toc_visible": true,
      "authorship_tag": "ABX9TyOqde/xV2PSSc/M+7gijZuh",
      "include_colab_link": true
    },
    "kernelspec": {
      "name": "python3",
      "display_name": "Python 3"
    }
  },
  "cells": [
    {
      "cell_type": "markdown",
      "metadata": {
        "id": "view-in-github",
        "colab_type": "text"
      },
      "source": [
        "<a href=\"https://colab.research.google.com/github/tqnhu2407/Linear_Regression/blob/master/linear_regression.ipynb\" target=\"_parent\"><img src=\"https://colab.research.google.com/assets/colab-badge.svg\" alt=\"Open In Colab\"/></a>"
      ]
    },
    {
      "cell_type": "markdown",
      "metadata": {
        "id": "Tkl0wyWpH8wC",
        "colab_type": "text"
      },
      "source": [
        "# Đồ án 03: Linear Regression"
      ]
    },
    {
      "cell_type": "markdown",
      "metadata": {
        "id": "fVuLkbotIRT4",
        "colab_type": "text"
      },
      "source": [
        "## Thông tin cá nhân\n",
        "\n",
        "### Họ tên: Trần Quỳnh Như\n",
        "\n",
        "### MSSV: 18127266"
      ]
    },
    {
      "cell_type": "markdown",
      "metadata": {
        "id": "x_fRAlIqId-Y",
        "colab_type": "text"
      },
      "source": [
        "## Các chức năng đã hoàn thành\n",
        "\n",
        "Xây dựng mô hình đánh giá chất lượng rượu sử dụng phương pháp hồi quy tuyến tính.\n",
        "\n",
        "    a) Sử dụng toàn bộ 11 đặc trưng đề bài cung cấp.\n",
        "\n",
        "    b) Sử dụng duy nhất 1 đặc trưng cho kết quả tốt nhất."
      ]
    },
    {
      "cell_type": "markdown",
      "metadata": {
        "id": "60_CcnQUKsfS",
        "colab_type": "text"
      },
      "source": [
        "## Ý tưởng thực hiện\n",
        "\n",
        "Do tập dữ liệu có 1199 dòng, nên ta nhân đôi dòng cuối để tập này có 1200 dòng giúp tiện cho việc tính toán và xử lí hơn.\n",
        "\n",
        "Mô hình hồi qui tuyến tính của ta có dạng \n",
        "$$A\\hat{x} = b$$\n",
        "nên ta tách tập dữ liệu ra thành 2 ma trận **A** và **b**"
      ]
    },
    {
      "cell_type": "markdown",
      "metadata": {
        "id": "gCvJG_NdNuQA",
        "colab_type": "text"
      },
      "source": [
        "## Mô tả các hàm chức năng"
      ]
    },
    {
      "cell_type": "markdown",
      "metadata": {
        "id": "OX6K-Fy2OWET",
        "colab_type": "text"
      },
      "source": [
        "Import các thư viện cần thiết"
      ]
    },
    {
      "cell_type": "code",
      "metadata": {
        "id": "UN8FXIFlYoHz",
        "colab_type": "code",
        "colab": {}
      },
      "source": [
        "import numpy as np\n",
        "import pandas as pd"
      ],
      "execution_count": null,
      "outputs": []
    },
    {
      "cell_type": "markdown",
      "metadata": {
        "id": "fLdTB60kG-gJ",
        "colab_type": "text"
      },
      "source": [
        "Đọc file csv bằng thư viện pandas"
      ]
    },
    {
      "cell_type": "code",
      "metadata": {
        "id": "kLy6Odd8bTx2",
        "colab_type": "code",
        "colab": {}
      },
      "source": [
        "df = pd.read_csv('wine.csv', sep=';')"
      ],
      "execution_count": null,
      "outputs": []
    },
    {
      "cell_type": "markdown",
      "metadata": {
        "id": "60vR9h-FG3D_",
        "colab_type": "text"
      },
      "source": [
        "Gán data vào numpy array mới để thuận lợi cho việc xử lí"
      ]
    },
    {
      "cell_type": "code",
      "metadata": {
        "id": "VbRvW5YxBSw-",
        "colab_type": "code",
        "colab": {}
      },
      "source": [
        "wine = df.values.copy()"
      ],
      "execution_count": null,
      "outputs": []
    },
    {
      "cell_type": "markdown",
      "metadata": {
        "id": "c0_epegAHCc4",
        "colab_type": "text"
      },
      "source": [
        "Do dataset ban đầu chỉ có 1199 dòng, nên ta duplicate dòng cuối lên để dataset chẵn 1200 dòng"
      ]
    },
    {
      "cell_type": "code",
      "metadata": {
        "id": "4YQJYusxGyzf",
        "colab_type": "code",
        "colab": {}
      },
      "source": [
        "last_line = wine[-1]\n",
        "wine = np.append(wine, [last_line], axis=0)"
      ],
      "execution_count": null,
      "outputs": []
    },
    {
      "cell_type": "markdown",
      "metadata": {
        "id": "PMO7QgDRHTWm",
        "colab_type": "text"
      },
      "source": [
        "Tách tập dữ liệu ra thành 2 ma trận A và b"
      ]
    },
    {
      "cell_type": "code",
      "metadata": {
        "id": "wnh54MwEFi5s",
        "colab_type": "code",
        "colab": {}
      },
      "source": [
        "A = np.zeros((1200, 11))\n",
        "\n",
        "for line in range(1200):\n",
        "    A[line] = wine[line, :-1]"
      ],
      "execution_count": null,
      "outputs": []
    },
    {
      "cell_type": "code",
      "metadata": {
        "id": "2ltqRA5dL_V6",
        "colab_type": "code",
        "colab": {}
      },
      "source": [
        "b = wine[:, 11]"
      ],
      "execution_count": null,
      "outputs": []
    },
    {
      "cell_type": "markdown",
      "metadata": {
        "id": "Kkf2fxsCDkDt",
        "colab_type": "text"
      },
      "source": [
        "# a)"
      ]
    },
    {
      "cell_type": "markdown",
      "metadata": {
        "id": "3roFiv3jPfxc",
        "colab_type": "text"
      },
      "source": [
        "Tính nghiệm của phương trình hồi qui tuyến tính."
      ]
    },
    {
      "cell_type": "code",
      "metadata": {
        "id": "Va-xB9fRMphx",
        "colab_type": "code",
        "colab": {
          "base_uri": "https://localhost:8080/",
          "height": 67
        },
        "outputId": "64c02ef0-ad68-4e16-9555-4ed041628dbc"
      },
      "source": [
        "np.linalg.pinv(A)@b"
      ],
      "execution_count": null,
      "outputs": [
        {
          "output_type": "execute_result",
          "data": {
            "text/plain": [
              "array([ 6.08780564e-03, -1.10606523e+00, -2.61369571e-01,  1.53895225e-02,\n",
              "       -1.72614693e+00,  3.81352544e-03, -3.90664540e-03,  4.32676138e+00,\n",
              "       -4.55444191e-01,  7.28908094e-01,  3.08728459e-01])"
            ]
          },
          "metadata": {
            "tags": []
          },
          "execution_count": 33
        }
      ]
    },
    {
      "cell_type": "markdown",
      "metadata": {
        "id": "HhnZSjQDEeL6",
        "colab_type": "text"
      },
      "source": [
        "# b)"
      ]
    },
    {
      "cell_type": "markdown",
      "metadata": {
        "id": "MbnYDoABPiF1",
        "colab_type": "text"
      },
      "source": [
        "Chia tập rượu thành 11 thuộc tính att[0] ... att[10].\n",
        "\n",
        "Với mỗi thuộc tính, ở mỗi dòng dữ liệu ta thêm giá trị 0 vào vì khi dùng hàm np.linalg.pinv(A)@b yêu cầu mỗi ma trận A có ít nhất 2 chiều."
      ]
    },
    {
      "cell_type": "code",
      "metadata": {
        "id": "IoDA9_MIQx0R",
        "colab_type": "code",
        "colab": {}
      },
      "source": [
        "att = np.zeros((11, 1200, 2))\n",
        "\n",
        "for col_idx in range(11):\n",
        "    att[col_idx,: , 0] = A[:, col_idx]"
      ],
      "execution_count": null,
      "outputs": []
    },
    {
      "cell_type": "markdown",
      "metadata": {
        "id": "0WzOyJJVQ1Xg",
        "colab_type": "text"
      },
      "source": [
        "Ví dụ: Dòng dữ liệu đầu tiên của thuộc tính thứ 1:"
      ]
    },
    {
      "cell_type": "code",
      "metadata": {
        "id": "D7fVG7iLMxed",
        "colab_type": "code",
        "colab": {
          "base_uri": "https://localhost:8080/",
          "height": 34
        },
        "outputId": "21b636e3-4433-4ca3-ffdb-91a06d1d890c"
      },
      "source": [
        "att[0][0]"
      ],
      "execution_count": null,
      "outputs": [
        {
          "output_type": "execute_result",
          "data": {
            "text/plain": [
              "array([7.4, 0. ])"
            ]
          },
          "metadata": {
            "tags": []
          },
          "execution_count": 35
        }
      ]
    },
    {
      "cell_type": "markdown",
      "metadata": {
        "id": "2XboSPbqcMMp",
        "colab_type": "text"
      },
      "source": [
        "Mỗi thuộc tính được chia làm 3 phần bằng nhau (A, B, C). Ta dùng 2 phần để train và 1 phần để test.\n",
        "\n",
        "Ví dụ:\n",
        "\n",
        "Train | Test\n",
        "\n",
        "A B | C\n",
        "\n",
        "A C | B\n",
        "\n",
        "B C | A\n",
        "\n",
        "Sau mỗi lần train và test, ta tính sai số trung bình và lưu vào list saiso có len = 11 ứng với 11 thuộc tính. Do mỗi thuộc tính ta có 3 bộ train và test, nên mỗi phần tử trong mảng sa"
      ]
    },
    {
      "cell_type": "code",
      "metadata": {
        "id": "WlFg08kWv1Bk",
        "colab_type": "code",
        "colab": {
          "base_uri": "https://localhost:8080/",
          "height": 571
        },
        "outputId": "dd409a0e-4604-4546-bd67-f1cee6955ec9"
      },
      "source": [
        "# The saiso array\n",
        "saiso = []\n",
        "for i in range(11):\n",
        "    saiso.append([])\n",
        "\n",
        "# For each of the 11 attributes\n",
        "for i in range(11):\n",
        "\n",
        "    trainAtt = att[i]\n",
        "    trainb = b\n",
        "\n",
        "    for j in range(0, 1200, 400):\n",
        "        trainb = trainb[j:j+400]\n",
        "        for k in range(j, j+400):\n",
        "            trainAtt = np.delete(traintAtt, j)\n",
        "        \n",
        "\n",
        "    '''\n",
        "    # train: 0 -> 799\n",
        "    # test: 800 -> 1199\n",
        "    trainAtt = att[i][:800]\n",
        "    trainb = b[:800]\n",
        "    x_hat = np.linalg.pinv(trainAtt)@trainb\n",
        "    testAtt = att[i][800:1200]\n",
        "    testb = b[800:1200]\n",
        "    r_hat = testAtt @ x_hat - testb\n",
        "    print(sum(r_hat) / 400)\n",
        "    #sum_saiso = sum(testAtt[j][0] * x[0] - testb[j] for j in range(400))\n",
        "    #saiso[i].append(sum_saiso/400)\n",
        "\n",
        "    # train: 0 -> 399, 800 -> 1199\n",
        "    # test: 400 -> 799\n",
        "    trainAtt = att[i][0:400]\n",
        "    trainAtt = np.append(trainAtt, att[i][800:1200], axis=0)\n",
        "    trainb = b[0:400]\n",
        "    trainb = np.append(trainb, b[800:1200], axis=0)\n",
        "    x = np.linalg.pinv(trainAtt)@trainb\n",
        "    testAtt = att[i][400:800]\n",
        "    testb = b[400:800]\n",
        "    sum_saiso = sum(testAtt[j][0] * x[0] - testb[j] for j in range(400))\n",
        "    saiso[i].append(sum_saiso/400)\n",
        "\n",
        "    # train: 400 -> 1199\n",
        "    # test: 0 -> 399\n",
        "    trainAtt = att[i][400:1200]\n",
        "    trainb = b[400:1200]\n",
        "    x = np.linalg.pinv(trainAtt)@trainb\n",
        "    testAtt = att[i][:400]\n",
        "    testb = b[:400]\n",
        "    sum_saiso = sum(testAtt[j][0] * x[0] - testb[j] for j in range(400))\n",
        "    saiso[i].append(sum_saiso/400)\n",
        "    '''\n"
      ],
      "execution_count": null,
      "outputs": [
        {
          "output_type": "stream",
          "text": [
            "0\n",
            "400\n",
            "800\n",
            "0\n",
            "400\n",
            "800\n",
            "0\n",
            "400\n",
            "800\n",
            "0\n",
            "400\n",
            "800\n",
            "0\n",
            "400\n",
            "800\n",
            "0\n",
            "400\n",
            "800\n",
            "0\n",
            "400\n",
            "800\n",
            "0\n",
            "400\n",
            "800\n",
            "0\n",
            "400\n",
            "800\n",
            "0\n",
            "400\n",
            "800\n",
            "0\n",
            "400\n",
            "800\n"
          ],
          "name": "stdout"
        }
      ]
    },
    {
      "cell_type": "code",
      "metadata": {
        "id": "T1IwPyUF6tcI",
        "colab_type": "code",
        "colab": {
          "base_uri": "https://localhost:8080/",
          "height": 34
        },
        "outputId": "889b2304-57f0-4650-9a26-a93f4180952a"
      },
      "source": [
        "avg_ss = []\n",
        "\n",
        "for i in range(11):\n",
        "    # Divide each attribute's dataset into 2 subset:\n",
        "    # train(len=800) and test(len=400)\n",
        "    att_avg = []\n",
        "    for j in range(0, 1200, 400):\n",
        "        # Split the dataset into the train set by delete line j to j+399\n",
        "        # bcz those lines belong to the test set\n",
        "        trainAtt = att[i].copy()\n",
        "        trainb = b.copy()\n",
        "        for k in range(0, 400):\n",
        "            trainAtt = np.delete(trainAtt, j, 0)\n",
        "            trainb = np.delete(trainb, j, 0)\n",
        "        # Split the dataset into the test set\n",
        "        testAtt = att[i][j:j+400]\n",
        "        testb = b[j:j+400]\n",
        "        # Calculate x hat and r hat\n",
        "        x_hat = np.linalg.pinv(trainAtt)@trainb\n",
        "        r_hat = testAtt @ x_hat - testb\n",
        "        # Calculate the average of this\n",
        "        avg = np.average(r_hat)\n",
        "        att_avg.append(avg)\n",
        "\n",
        "    print(att_avg)"
      ],
      "execution_count": 108,
      "outputs": [
        {
          "output_type": "stream",
          "text": [
            "[-0.18984474359806175, 0.6447622272464884, -1.0009988794840805]\n"
          ],
          "name": "stdout"
        }
      ]
    },
    {
      "cell_type": "code",
      "metadata": {
        "id": "Rt2rnbMCgesU",
        "colab_type": "code",
        "colab": {
          "base_uri": "https://localhost:8080/",
          "height": 202
        },
        "outputId": "14eb1989-487e-49ab-f01e-9830313f6db4"
      },
      "source": [
        "best_att = 0\n",
        "min = 9999\n",
        "\n",
        "for i in range(11):\n",
        "    tmp_min = abs(np.average(saiso[i]))\n",
        "    print(f'{df.columns[i]} = {tmp_min}')\n",
        "    if min > tmp_min:\n",
        "        min = tmp_min\n",
        "        best_att = i"
      ],
      "execution_count": null,
      "outputs": [
        {
          "output_type": "stream",
          "text": [
            "fixed acidity = 0.18202713194521783\n",
            "volatile acidity = 0.6783887420896312\n",
            "citric acid = 1.6431135168306807\n",
            "residual sugar = 1.0845570982787216\n",
            "chlorides = 1.2481008463184664\n",
            "free sulfur dioxide = 1.7780946926618777\n",
            "total sulfur dioxide = 1.9975566751045948\n",
            "density = 0.0001690417699179899\n",
            "pH = 0.01612278563583433\n",
            "sulphates = 0.3061790344292534\n",
            "alcohol = 0.01746497452170623\n"
          ],
          "name": "stdout"
        }
      ]
    },
    {
      "cell_type": "code",
      "metadata": {
        "id": "SUgMWAE1SJvE",
        "colab_type": "code",
        "colab": {}
      },
      "source": [
        ""
      ],
      "execution_count": null,
      "outputs": []
    }
  ]
}