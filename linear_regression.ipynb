{
  "nbformat": 4,
  "nbformat_minor": 0,
  "metadata": {
    "colab": {
      "name": "linear_regression.ipynb",
      "provenance": [],
      "collapsed_sections": [],
      "toc_visible": true,
      "authorship_tag": "ABX9TyPuy/BWdZNWCF6ZSuRb0Ydo",
      "include_colab_link": true
    },
    "kernelspec": {
      "name": "python3",
      "display_name": "Python 3"
    }
  },
  "cells": [
    {
      "cell_type": "markdown",
      "metadata": {
        "id": "view-in-github",
        "colab_type": "text"
      },
      "source": [
        "<a href=\"https://colab.research.google.com/github/tqnhu2407/Linear_Regression/blob/master/linear_regression.ipynb\" target=\"_parent\"><img src=\"https://colab.research.google.com/assets/colab-badge.svg\" alt=\"Open In Colab\"/></a>"
      ]
    },
    {
      "cell_type": "markdown",
      "metadata": {
        "id": "Tkl0wyWpH8wC",
        "colab_type": "text"
      },
      "source": [
        "# Đồ án 03: Linear Regression"
      ]
    },
    {
      "cell_type": "markdown",
      "metadata": {
        "id": "fVuLkbotIRT4",
        "colab_type": "text"
      },
      "source": [
        "## Thông tin cá nhân\n",
        "\n",
        "### Họ tên: Trần Quỳnh Như\n",
        "\n",
        "### MSSV: 18127266"
      ]
    },
    {
      "cell_type": "markdown",
      "metadata": {
        "id": "x_fRAlIqId-Y",
        "colab_type": "text"
      },
      "source": [
        "## Các chức năng đã hoàn thành\n",
        "\n",
        "Xây dựng mô hình đánh giá chất lượng rượu sử dụng phương pháp hồi quy tuyến tính.\n",
        "\n",
        "    a) Sử dụng toàn bộ 11 đặc trưng đề bài cung cấp.\n",
        "\n",
        "    b) Sử dụng duy nhất 1 đặc trưng cho kết quả tốt nhất."
      ]
    },
    {
      "cell_type": "markdown",
      "metadata": {
        "id": "60_CcnQUKsfS",
        "colab_type": "text"
      },
      "source": [
        "## Ý tưởng thực hiện\n",
        "\n",
        "Mô hình hồi qui tuyến tính của ta có dạng \n",
        "$$A\\hat{x} = b$$\n",
        "nên ta tách tập dữ liệu ra thành 2 ma trận **A** và **b**\n",
        "\n",
        "Ở câu a) ta chỉ cần gọi hàm của numpy để tính nghiệm $\\hat{x}$\n",
        "\n",
        "Ở câu b) ta tách ma trận A ra thành 11 thuộc tính độc lập. Ở mỗi thuộc tính, ta chia dữ liệu ra thành 2 phần train và test. Sau khi tính được nghiệm $\\hat{x}$ từ tập train, ta thay vào tập test để tính\n",
        "\n",
        "$$\\hat{r} = A\\hat{x} - b$$\n",
        "\n",
        "Từ đó ta tính được trung bình các độ chênh lệch của tập train so với tập test.\n",
        "\n",
        "Thuộc tính nào có sai số trung bình nhỏ nhất thì đó là thuộc tính tốt nhất.\n",
        "\n"
      ]
    },
    {
      "cell_type": "markdown",
      "metadata": {
        "id": "gCvJG_NdNuQA",
        "colab_type": "text"
      },
      "source": [
        "## Mô tả các hàm chức năng"
      ]
    },
    {
      "cell_type": "markdown",
      "metadata": {
        "id": "DLZDivzDiLo8",
        "colab_type": "text"
      },
      "source": [
        "### Tiền xử lí dữ liệu"
      ]
    },
    {
      "cell_type": "markdown",
      "metadata": {
        "id": "OX6K-Fy2OWET",
        "colab_type": "text"
      },
      "source": [
        "Import các thư viện cần thiết và đọc file csv bằng thư viện pandas."
      ]
    },
    {
      "cell_type": "code",
      "metadata": {
        "id": "UN8FXIFlYoHz",
        "colab_type": "code",
        "colab": {}
      },
      "source": [
        "import numpy as np\n",
        "import pandas as pd\n",
        "\n",
        "df = pd.read_csv('wine.csv', sep=';')"
      ],
      "execution_count": 1,
      "outputs": []
    },
    {
      "cell_type": "markdown",
      "metadata": {
        "id": "60vR9h-FG3D_",
        "colab_type": "text"
      },
      "source": [
        "Gán data vào numpy array mới để thuận lợi cho việc xử lí.\n",
        "\n",
        "Tách tập dữ liệu ra thành 2 ma trận A và b"
      ]
    },
    {
      "cell_type": "code",
      "metadata": {
        "id": "VbRvW5YxBSw-",
        "colab_type": "code",
        "colab": {}
      },
      "source": [
        "wine = df.values\n",
        "\n",
        "A = wine[:, :-1]\n",
        "b = wine[:, 11]"
      ],
      "execution_count": 2,
      "outputs": []
    },
    {
      "cell_type": "markdown",
      "metadata": {
        "id": "Kkf2fxsCDkDt",
        "colab_type": "text"
      },
      "source": [
        "### a) Sử dụng toàn bộ 11 đặc trưng đề bài cung cấp."
      ]
    },
    {
      "cell_type": "markdown",
      "metadata": {
        "id": "3roFiv3jPfxc",
        "colab_type": "text"
      },
      "source": [
        "Tính nghiệm của phương trình hồi qui tuyến tính."
      ]
    },
    {
      "cell_type": "code",
      "metadata": {
        "id": "Va-xB9fRMphx",
        "colab_type": "code",
        "colab": {
          "base_uri": "https://localhost:8080/",
          "height": 67
        },
        "outputId": "603d35ac-d948-4b0e-8c27-f94db7faee8a"
      },
      "source": [
        "x_hat = np.linalg.pinv(A)@b\n",
        "x_hat"
      ],
      "execution_count": 3,
      "outputs": [
        {
          "output_type": "execute_result",
          "data": {
            "text/plain": [
              "array([ 5.92516137e-03, -1.10803754e+00, -2.63046284e-01,  1.53222831e-02,\n",
              "       -1.73050274e+00,  3.80141908e-03, -3.89899869e-03,  4.33858768e+00,\n",
              "       -4.58535475e-01,  7.29718662e-01,  3.08858648e-01])"
            ]
          },
          "metadata": {
            "tags": []
          },
          "execution_count": 3
        }
      ]
    },
    {
      "cell_type": "markdown",
      "metadata": {
        "id": "HhnZSjQDEeL6",
        "colab_type": "text"
      },
      "source": [
        "### b) Sử dụng duy nhất 1 đặc trưng cho kết quả tốt nhất."
      ]
    },
    {
      "cell_type": "markdown",
      "metadata": {
        "id": "NelJtWvjQcNC",
        "colab_type": "text"
      },
      "source": [
        "Do tập dữ liệu có **1199** dòng nên ta **duplicate dòng cuối** để **chẵn 1200 dòng**, thuận tiện cho việc tính toán ở hàm cross_validation ở dưới.\n",
        "\n",
        "**Lưu ý: cell này chỉ được run 1 lần vì run nhiều lần sẽ append nhiều dòng.**"
      ]
    },
    {
      "cell_type": "code",
      "metadata": {
        "id": "MYSxi5GRQbSV",
        "colab_type": "code",
        "colab": {}
      },
      "source": [
        "last_A = A[-1]\n",
        "last_b = b[-1]\n",
        "\n",
        "A = np.append(A, [last_A], axis=0)\n",
        "b = np.append(b, [last_b], axis=0)"
      ],
      "execution_count": 4,
      "outputs": []
    },
    {
      "cell_type": "markdown",
      "metadata": {
        "id": "MbnYDoABPiF1",
        "colab_type": "text"
      },
      "source": [
        "Chia tập rượu thành 11 thuộc tính att[0] ... att[10]."
      ]
    },
    {
      "cell_type": "code",
      "metadata": {
        "id": "MNOF_CS7jYbs",
        "colab_type": "code",
        "colab": {}
      },
      "source": [
        "att = np.zeros((11, 1200, 1))\n",
        "\n",
        "for col_idx in range(11):\n",
        "    att[col_idx, :, 0] = A[:, col_idx]"
      ],
      "execution_count": 5,
      "outputs": []
    },
    {
      "cell_type": "markdown",
      "metadata": {
        "id": "2XboSPbqcMMp",
        "colab_type": "text"
      },
      "source": [
        "Ta xây hàm cross_validation với tham số truyền vào là n_group cho phép người dùng nhập số lượng cụm data. (Số cụm nên là ước của 1200: 3, 4, 5,...)\n",
        "\n",
        "**Giả sử n_group = 3** thì dữ liệu mỗi thuộc tính được chia làm **3 phần bằng nhau** là A (từ line 0 đến 399), B (từ line 400 đến 799) và C (từ line 800 đến 1199). Ta dùng 2 phần để train và 1 phần để test.\n",
        "\n",
        "Ví dụ:\n",
        "\n",
        "Train | Test\n",
        "\n",
        ". A B | C\n",
        "\n",
        ". A C | B\n",
        "\n",
        ". B C | A\n",
        "\n",
        "Ta tạo list errors chứa 11 sai số ứng với 11 thuộc tính. \n",
        "\n",
        "Xét mỗi thuộc tính, thực hiện chia dữ liệu ra 2 phần train-test và tính sai số của lần chia đó.\n",
        "\n",
        "Từ đó tính được sai số của thuộc tính bằng cách: lấy trị tuyệt đối của trung bình cộng các sai số của các lần chia train-test.\n",
        "\n",
        "Kết quả trả về của hàm là list errors."
      ]
    },
    {
      "cell_type": "code",
      "metadata": {
        "id": "T1IwPyUF6tcI",
        "colab_type": "code",
        "colab": {}
      },
      "source": [
        "def cross_validation(n_group):\n",
        "\n",
        "    errors = []\n",
        "    \n",
        "    for i in range(11):\n",
        "\n",
        "        # Errors of this attribute\n",
        "        att_errors = []\n",
        "        step = 1200 // n_group\n",
        "\n",
        "        # Divide each attribute's dataset into 2 subsets train and test\n",
        "        for j in range(0, 1200, step):\n",
        "            \n",
        "            # DELETE LINE j TO LINE j+step of this attribute's dataset\n",
        "            # bcz those lines belong to the test set\n",
        "            trainAtt = att[i].copy()\n",
        "            trainb = b.copy()\n",
        "            for k in range(0, step): # DELETE LINE j TO LINE j+step\n",
        "                trainAtt = np.delete(trainAtt, j, 0)\n",
        "                trainb = np.delete(trainb, j, 0)\n",
        "\n",
        "            # The test set will go from line j to line j+step\n",
        "            testAtt = att[i][j:j+step]\n",
        "            testb = b[j:j+step]\n",
        "\n",
        "            # Calculate x hat and r hat\n",
        "            x_hat = np.linalg.pinv(trainAtt)@trainb\n",
        "            r_hat = abs(testAtt @ x_hat - testb)\n",
        "            \n",
        "            # Calculate the average of this\n",
        "            att_errors.append(np.average(r_hat))\n",
        "        \n",
        "        # This attribute's error\n",
        "        errors.append(abs(np.average(att_errors)))\n",
        "    \n",
        "    return errors"
      ],
      "execution_count": 6,
      "outputs": []
    },
    {
      "cell_type": "code",
      "metadata": {
        "id": "lf3BUQ1hqKHd",
        "colab_type": "code",
        "colab": {}
      },
      "source": [
        "errors = cross_validation(4)"
      ],
      "execution_count": 7,
      "outputs": []
    },
    {
      "cell_type": "markdown",
      "metadata": {
        "id": "zeiCCQ0yPR5g",
        "colab_type": "text"
      },
      "source": [
        "Tìm sai số nhỏ nhất trong list errors."
      ]
    },
    {
      "cell_type": "code",
      "metadata": {
        "id": "Rt2rnbMCgesU",
        "colab_type": "code",
        "colab": {}
      },
      "source": [
        "min_error = min(errors)\n",
        "min_error_idx = errors.index(min_error)"
      ],
      "execution_count": 8,
      "outputs": []
    },
    {
      "cell_type": "markdown",
      "metadata": {
        "id": "YjOkKoV2MQ5M",
        "colab_type": "text"
      },
      "source": [
        "Danh sách các sai số của các thuộc tính"
      ]
    },
    {
      "cell_type": "code",
      "metadata": {
        "id": "CZvOM6v3Pjnd",
        "colab_type": "code",
        "colab": {
          "base_uri": "https://localhost:8080/",
          "height": 202
        },
        "outputId": "5887d4d7-c7f7-422e-ed86-b9f69238dba4"
      },
      "source": [
        "list_errors = list(zip(df.columns, errors))\n",
        "list_errors"
      ],
      "execution_count": 9,
      "outputs": [
        {
          "output_type": "execute_result",
          "data": {
            "text/plain": [
              "[('fixed acidity', 1.077375392682978),\n",
              " ('volatile acidity', 1.86559257103894),\n",
              " ('citric acid', 2.648960273112925),\n",
              " ('residual sugar', 2.013649878078203),\n",
              " ('chlorides', 2.1098784623384885),\n",
              " ('free sulfur dioxide', 2.8416967795130867),\n",
              " ('total sulfur dioxide', 3.136373010227495),\n",
              " ('density', 0.7145300013793484),\n",
              " ('pH', 0.7426240359792065),\n",
              " ('sulphates', 1.0974037951682105),\n",
              " ('alcohol', 0.5472616465482669)]"
            ]
          },
          "metadata": {
            "tags": []
          },
          "execution_count": 9
        }
      ]
    },
    {
      "cell_type": "markdown",
      "metadata": {
        "id": "7CbCznkPPWhi",
        "colab_type": "text"
      },
      "source": [
        "Thuộc tính tốt nhất với sai số nhỏ nhất."
      ]
    },
    {
      "cell_type": "code",
      "metadata": {
        "id": "Isjnh32dNTN8",
        "colab_type": "code",
        "colab": {
          "base_uri": "https://localhost:8080/",
          "height": 34
        },
        "outputId": "074c91cc-d928-4d3f-cda0-fffc1af80bc6"
      },
      "source": [
        "list_errors[min_error_idx]"
      ],
      "execution_count": 10,
      "outputs": [
        {
          "output_type": "execute_result",
          "data": {
            "text/plain": [
              "('alcohol', 0.5472616465482669)"
            ]
          },
          "metadata": {
            "tags": []
          },
          "execution_count": 10
        }
      ]
    }
  ]
}